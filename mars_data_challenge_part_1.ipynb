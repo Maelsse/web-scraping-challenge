{
 "cells": [
  {
   "cell_type": "code",
   "execution_count": 1,
   "id": "db9261cf-a27f-4e44-8332-2b00bda1b74d",
   "metadata": {},
   "outputs": [],
   "source": [
    "# Import Dependencies\n",
    "from bs4 import BeautifulSoup as bs\n",
    "from splinter import Browser\n",
    "from webdriver_manager.chrome import ChromeDriverManager\n",
    "import pandas as pd\n",
    "import requests\n",
    "import os\n",
    "import pymongo"
   ]
  },
  {
   "cell_type": "code",
   "execution_count": 2,
   "id": "628416b6-4fa2-488a-b18f-9553b4ee4650",
   "metadata": {},
   "outputs": [],
   "source": [
    "# Initialize PyMongo to work with MongoDBs\n",
    "conn = 'mongodb://localhost:27017'\n",
    "client = pymongo.MongoClient(conn)"
   ]
  },
  {
   "cell_type": "code",
   "execution_count": 3,
   "id": "63bedcc6-ac1d-4bc1-951a-ce84b84637a2",
   "metadata": {},
   "outputs": [],
   "source": [
    "# Define database and collection\n",
    "db = client.news_db\n",
    "collection = db.articles"
   ]
  },
  {
   "cell_type": "code",
   "execution_count": 4,
   "id": "7b45b4e6-cf0c-44fe-8db8-3e71a22dbf13",
   "metadata": {},
   "outputs": [],
   "source": [
    "executable_path = {'executable_path': ChromeDriverManager().install()}\n",
    "browser = Browser('chrome', **executable_path, headless=False)"
   ]
  },
  {
   "cell_type": "code",
   "execution_count": 5,
   "id": "f0c73b74-f6c8-440c-8699-2d2a29fa1aa5",
   "metadata": {},
   "outputs": [],
   "source": [
    "# Url to scrape\n",
    "url = 'https://redplanetscience.com/'\n",
    "browser.visit(url)"
   ]
  },
  {
   "cell_type": "code",
   "execution_count": 6,
   "id": "28d08a26-2b69-43cb-8c69-feb6cf7d3a6d",
   "metadata": {},
   "outputs": [
    {
     "name": "stdout",
     "output_type": "stream",
     "text": [
      "[(\"How NASA's Mars Helicopter Will Reach the Red Planet's Surface\", 'The small craft will seek to prove that powered, controlled flight is possible on another planet. But just getting it onto the surface of Mars will take a whole lot of ingenuity.'), (\"Nine Finalists Chosen in NASA's Mars 2020 Rover Naming Contest\", \"Nine finalists have been chosen in the essay contest for K-12 students across U.S. to name NASA's next Mars rover. Now you can help by voting for your favorite. \"), (\"NASA-JPL Names 'Rolling Stones Rock' on Mars\", \"NASA's Mars InSight mission honored one of the biggest bands of all time at Pasadena concert.\"), ('NASA to Broadcast Mars 2020 Perseverance Launch, Prelaunch Activities', 'Starting July 27, news activities will cover everything from mission engineering and science to returning samples from Mars to, of course, the launch itself.'), (\"NASA's Curiosity Keeps Rolling As Team Operates Rover From Home\", 'The team has learned to meet new challenges as they work remotely on the Mars mission.'), ('Join NASA for the Launch of the Mars 2020 Perseverance Rover', 'No matter where you live, choose from a menu of activities to join NASA as we \"Countdown to Mars\" and launch the Perseverance rover to the Red Planet.'), ('The Man Who Wanted to Fly on Mars', \"The Mars Helicopter is riding to the Red Planet this summer with NASA's Perseverance rover. The helicopter's chief engineer, Bob Balaram, shares the saga of how it came into being.\"), (\"NASA's MAVEN Explores Mars to Understand Radio Interference at Earth\", 'NASA’s MAVEN spacecraft has discovered “layers” and “rifts” in the electrically charged part of the upper atmosphere of Mars.'), ('NASA Perseverance Mars Rover Scientists Train in the Nevada Desert', \"Team members searched for signs of ancient microscopic life there, just as NASA's latest rover will on the Red Planet next year.\"), (\"NASA's Mars 2020 Rover Closer to Getting Its Name\", \"155 students from across the U.S. have been chosen as semifinalists in NASA's essay contest to name the Mars 2020 rover, and see it launch from Cape Canaveral this July.\"), ('NASA Moves Forward With Campaign to Return Mars Samples to Earth', 'During this next phase, the program will mature critical technologies and make critical design decisions as well as assess industry partnerships.'), (\"10.9 Million Names Now Aboard NASA's Perseverance Mars Rover\", \"As part of NASA's 'Send Your Name to Mars' campaign, they've been stenciled onto three microchips along with essays from NASA's 'Name the Rover' contest. Next stop: Mars.\"), (\"Air Deliveries Bring NASA's Perseverance Mars Rover Closer to Launch\", \"A NASA Wallops Flight Facility cargo plane transported more than two tons of equipment — including the rover's sample collection tubes — to Florida for this summer's liftoff.\"), (\"NASA's Perseverance Rover Goes Through Trials by Fire, Ice, Light and Sound\", \"The agency's new Mars rover is put through a series of tests in vacuum chambers, acoustic chambers and more to get ready for the Red Planet.\"), (\"NASA InSight's 'Mole' Is Out of Sight\", \"Now that the heat probe is just below the Martian surface, InSight's arm will scoop some additional soil on top to help it keep digging so it can take Mars' temperature.\")]\n"
     ]
    }
   ],
   "source": [
    "titles = []\n",
    "previews = []\n",
    "\n",
    "post = {}\n",
    "\n",
    "# Iterate through the landing page:\n",
    "for x in range(1):\n",
    "    html = browser.html\n",
    "    soup = bs(html, 'lxml')\n",
    "    \n",
    "    news_title = soup.find_all('div', class_='content_title')\n",
    "    news_preview = soup.find_all('div', class_='article_teaser_body')\n",
    "    \n",
    "    for title in news_title:\n",
    "        n_title = title.text\n",
    "        titles.append(n_title)\n",
    "        \n",
    "    for preview in news_preview:\n",
    "        n_prev = preview.text\n",
    "        previews.append(n_prev)\n",
    "        \n",
    "    # Zip List Together and print it \n",
    "    titles_and_prevs = zip(titles, previews)\n",
    "    print(list(titles_and_prevs))\n",
    "        \n",
    "    # Dictionary to be inserted into MongoDB\n",
    "    post = {\n",
    "        'title': titles,\n",
    "        'preview': previews,\n",
    "    }\n",
    "    # Insert in Mongo DB Database\n",
    "    collection.insert_one(post)"
   ]
  },
  {
   "cell_type": "code",
   "execution_count": 7,
   "id": "e544b21b-2132-4e2c-b6d1-0794bbf504e8",
   "metadata": {},
   "outputs": [
    {
     "name": "stdout",
     "output_type": "stream",
     "text": [
      "{'_id': ObjectId('632103790ffbff62bb6e4a07'), 'title': [\"How NASA's Mars Helicopter Will Reach the Red Planet's Surface\", \"Nine Finalists Chosen in NASA's Mars 2020 Rover Naming Contest\", \"NASA-JPL Names 'Rolling Stones Rock' on Mars\", 'NASA to Broadcast Mars 2020 Perseverance Launch, Prelaunch Activities', \"NASA's Curiosity Keeps Rolling As Team Operates Rover From Home\", 'Join NASA for the Launch of the Mars 2020 Perseverance Rover', 'The Man Who Wanted to Fly on Mars', \"NASA's MAVEN Explores Mars to Understand Radio Interference at Earth\", 'NASA Perseverance Mars Rover Scientists Train in the Nevada Desert', \"NASA's Mars 2020 Rover Closer to Getting Its Name\", 'NASA Moves Forward With Campaign to Return Mars Samples to Earth', \"10.9 Million Names Now Aboard NASA's Perseverance Mars Rover\", \"Air Deliveries Bring NASA's Perseverance Mars Rover Closer to Launch\", \"NASA's Perseverance Rover Goes Through Trials by Fire, Ice, Light and Sound\", \"NASA InSight's 'Mole' Is Out of Sight\"], 'preview': ['The small craft will seek to prove that powered, controlled flight is possible on another planet. But just getting it onto the surface of Mars will take a whole lot of ingenuity.', \"Nine finalists have been chosen in the essay contest for K-12 students across U.S. to name NASA's next Mars rover. Now you can help by voting for your favorite. \", \"NASA's Mars InSight mission honored one of the biggest bands of all time at Pasadena concert.\", 'Starting July 27, news activities will cover everything from mission engineering and science to returning samples from Mars to, of course, the launch itself.', 'The team has learned to meet new challenges as they work remotely on the Mars mission.', 'No matter where you live, choose from a menu of activities to join NASA as we \"Countdown to Mars\" and launch the Perseverance rover to the Red Planet.', \"The Mars Helicopter is riding to the Red Planet this summer with NASA's Perseverance rover. The helicopter's chief engineer, Bob Balaram, shares the saga of how it came into being.\", 'NASA’s MAVEN spacecraft has discovered “layers” and “rifts” in the electrically charged part of the upper atmosphere of Mars.', \"Team members searched for signs of ancient microscopic life there, just as NASA's latest rover will on the Red Planet next year.\", \"155 students from across the U.S. have been chosen as semifinalists in NASA's essay contest to name the Mars 2020 rover, and see it launch from Cape Canaveral this July.\", 'During this next phase, the program will mature critical technologies and make critical design decisions as well as assess industry partnerships.', \"As part of NASA's 'Send Your Name to Mars' campaign, they've been stenciled onto three microchips along with essays from NASA's 'Name the Rover' contest. Next stop: Mars.\", \"A NASA Wallops Flight Facility cargo plane transported more than two tons of equipment — including the rover's sample collection tubes — to Florida for this summer's liftoff.\", \"The agency's new Mars rover is put through a series of tests in vacuum chambers, acoustic chambers and more to get ready for the Red Planet.\", \"Now that the heat probe is just below the Martian surface, InSight's arm will scoop some additional soil on top to help it keep digging so it can take Mars' temperature.\"]}\n"
     ]
    }
   ],
   "source": [
    "# Display the MongoDB records created above\n",
    "articles = db.articles.find()\n",
    "for article in articles:\n",
    "    print(article)"
   ]
  },
  {
   "cell_type": "code",
   "execution_count": 8,
   "id": "44c344be-0eca-4f22-a7c1-ed01bd7c38ac",
   "metadata": {},
   "outputs": [],
   "source": [
    "browser.quit()"
   ]
  }
 ],
 "metadata": {
  "kernelspec": {
   "display_name": "Python 3 (ipykernel)",
   "language": "python",
   "name": "python3"
  },
  "language_info": {
   "codemirror_mode": {
    "name": "ipython",
    "version": 3
   },
   "file_extension": ".py",
   "mimetype": "text/x-python",
   "name": "python",
   "nbconvert_exporter": "python",
   "pygments_lexer": "ipython3",
   "version": "3.9.12"
  }
 },
 "nbformat": 4,
 "nbformat_minor": 5
}
