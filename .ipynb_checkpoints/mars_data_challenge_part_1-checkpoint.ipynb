{
 "cells": [
  {
   "cell_type": "code",
   "execution_count": 1,
   "id": "db9261cf-a27f-4e44-8332-2b00bda1b74d",
   "metadata": {},
   "outputs": [],
   "source": [
    "# Import Dependencies\n",
    "from bs4 import BeautifulSoup as bs\n",
    "from splinter import Browser\n",
    "from webdriver_manager.chrome import ChromeDriverManager\n",
    "import pandas as pd\n",
    "import requests\n",
    "import os"
   ]
  },
  {
   "cell_type": "code",
   "execution_count": 2,
   "id": "7b45b4e6-cf0c-44fe-8db8-3e71a22dbf13",
   "metadata": {},
   "outputs": [],
   "source": [
    "executable_path = {'executable_path': ChromeDriverManager().install()}\n",
    "browser = Browser('chrome', **executable_path, headless=False)"
   ]
  },
  {
   "cell_type": "code",
   "execution_count": 3,
   "id": "f0c73b74-f6c8-440c-8699-2d2a29fa1aa5",
   "metadata": {},
   "outputs": [],
   "source": [
    "# Url to scrape\n",
    "url = 'https://redplanetscience.com/'\n",
    "browser.visit(url)"
   ]
  },
  {
   "cell_type": "code",
   "execution_count": 28,
   "id": "28d08a26-2b69-43cb-8c69-feb6cf7d3a6d",
   "metadata": {},
   "outputs": [
    {
     "ename": "AttributeError",
     "evalue": "ResultSet object has no attribute 'text'. You're probably treating a list of elements like a single element. Did you call find_all() when you meant to call find()?",
     "output_type": "error",
     "traceback": [
      "\u001b[0;31m---------------------------------------------------------------------------\u001b[0m",
      "\u001b[0;31mAttributeError\u001b[0m                            Traceback (most recent call last)",
      "Input \u001b[0;32mIn [47]\u001b[0m, in \u001b[0;36m<cell line: 5>\u001b[0;34m()\u001b[0m\n\u001b[1;32m     10\u001b[0m news_previews \u001b[38;5;241m=\u001b[39m news_soup\u001b[38;5;241m.\u001b[39mfind_all(\u001b[38;5;124m'\u001b[39m\u001b[38;5;124mdiv\u001b[39m\u001b[38;5;124m'\u001b[39m, class_\u001b[38;5;241m=\u001b[39m\u001b[38;5;124m'\u001b[39m\u001b[38;5;124marticle_teaser_body\u001b[39m\u001b[38;5;124m'\u001b[39m)\n\u001b[1;32m     12\u001b[0m \u001b[38;5;28;01mfor\u001b[39;00m title \u001b[38;5;129;01min\u001b[39;00m news_titles:\n\u001b[0;32m---> 13\u001b[0m     title \u001b[38;5;241m=\u001b[39m \u001b[43mnews_titles\u001b[49m\u001b[38;5;241;43m.\u001b[39;49m\u001b[43mtext\u001b[49m\n\u001b[1;32m     14\u001b[0m     n_title\u001b[38;5;241m.\u001b[39mappend(title)\n\u001b[1;32m     15\u001b[0m \u001b[38;5;28;01mfor\u001b[39;00m preview \u001b[38;5;129;01min\u001b[39;00m n_previews:\n",
      "File \u001b[0;32m~/opt/anaconda3/lib/python3.9/site-packages/bs4/element.py:2289\u001b[0m, in \u001b[0;36mResultSet.__getattr__\u001b[0;34m(self, key)\u001b[0m\n\u001b[1;32m   2287\u001b[0m \u001b[38;5;28;01mdef\u001b[39;00m \u001b[38;5;21m__getattr__\u001b[39m(\u001b[38;5;28mself\u001b[39m, key):\n\u001b[1;32m   2288\u001b[0m     \u001b[38;5;124;03m\"\"\"Raise a helpful exception to explain a common code fix.\"\"\"\u001b[39;00m\n\u001b[0;32m-> 2289\u001b[0m     \u001b[38;5;28;01mraise\u001b[39;00m \u001b[38;5;167;01mAttributeError\u001b[39;00m(\n\u001b[1;32m   2290\u001b[0m         \u001b[38;5;124m\"\u001b[39m\u001b[38;5;124mResultSet object has no attribute \u001b[39m\u001b[38;5;124m'\u001b[39m\u001b[38;5;132;01m%s\u001b[39;00m\u001b[38;5;124m'\u001b[39m\u001b[38;5;124m. You\u001b[39m\u001b[38;5;124m'\u001b[39m\u001b[38;5;124mre probably treating a list of elements like a single element. Did you call find_all() when you meant to call find()?\u001b[39m\u001b[38;5;124m\"\u001b[39m \u001b[38;5;241m%\u001b[39m key\n\u001b[1;32m   2291\u001b[0m     )\n",
      "\u001b[0;31mAttributeError\u001b[0m: ResultSet object has no attribute 'text'. You're probably treating a list of elements like a single element. Did you call find_all() when you meant to call find()?"
     ]
    }
   ],
   "source": [
    "# Iterate through the landing page:\n",
    "for x in range(1):\n",
    "    html = browser.html\n",
    "    news_soup = bs(html, 'lxml')\n",
    "    \n",
    "    news_title = news_soup.find_all('div', class_='content_title')\n",
    "    news_preview = news_soup.find_all('div', class_='article_teaser_body')\n",
    "    \n",
    "    for title in news_title:\n",
    "        n_title = title.text\n",
    "    for preview in news_preview:\n",
    "        n_prev = preview.text\n",
    "        \n",
    "    Articles = dict({\"News Title\": n_title,\n",
    "                     \"News Preview\": n_prev})\n",
    "    "
   ]
  },
  {
   "cell_type": "code",
   "execution_count": null,
   "id": "8d67bdfa-4a3e-4faa-8c91-71dd2d61428b",
   "metadata": {},
   "outputs": [
    {
     "data": {
      "text/plain": [
       "[[<div class=\"content_title\">MOXIE Could Help Future Rockets Launch Off Mars</div>,\n",
       "  <div class=\"content_title\">NASA Perseverance Mars Rover Scientists Train in the Nevada Desert</div>,\n",
       "  <div class=\"content_title\">Mars Helicopter Attached to NASA's Perseverance Rover</div>,\n",
       "  <div class=\"content_title\">NASA Readies Perseverance Mars Rover's Earthly Twin </div>,\n",
       "  <div class=\"content_title\">Mars Is Getting a New Robotic Meteorologist</div>,\n",
       "  <div class=\"content_title\">Screening Soon: 'The Pathfinders' Trains Lens on Mars</div>,\n",
       "  <div class=\"content_title\">Naming a NASA Mars Rover Can Change Your Life</div>,\n",
       "  <div class=\"content_title\">Common Questions about InSight's 'Mole'</div>,\n",
       "  <div class=\"content_title\">Media Get a Close-Up of NASA's Mars 2020 Rover</div>,\n",
       "  <div class=\"content_title\">Independent Review Indicates NASA Prepared for Mars Sample Return Campaign</div>,\n",
       "  <div class=\"content_title\">NASA's Mars Helicopter Attached to Mars 2020 Rover </div>,\n",
       "  <div class=\"content_title\">NASA's Perseverance Rover 100 Days Out</div>,\n",
       "  <div class=\"content_title\">NASA's InSight 'Hears' Peculiar Sounds on Mars</div>,\n",
       "  <div class=\"content_title\">Join NASA for the Launch of the Mars 2020 Perseverance Rover</div>,\n",
       "  <div class=\"content_title\">NASA's Perseverance Mars Rover Gets Its Wheels and Air Brakes</div>]]"
      ]
     },
     "execution_count": 46,
     "metadata": {},
     "output_type": "execute_result"
    }
   ],
   "source": [
    "print(lennews_title))"
   ]
  }
 ],
 "metadata": {
  "kernelspec": {
   "display_name": "Python 3 (ipykernel)",
   "language": "python",
   "name": "python3"
  },
  "language_info": {
   "codemirror_mode": {
    "name": "ipython",
    "version": 3
   },
   "file_extension": ".py",
   "mimetype": "text/x-python",
   "name": "python",
   "nbconvert_exporter": "python",
   "pygments_lexer": "ipython3",
   "version": "3.9.12"
  }
 },
 "nbformat": 4,
 "nbformat_minor": 5
}
